{
 "cells": [
  {
   "cell_type": "markdown",
   "metadata": {},
   "source": [
    "Finalizando a classe Valor\n",
    "==========================\n",
    "\n"
   ]
  },
  {
   "cell_type": "markdown",
   "metadata": {},
   "source": [
    "## Introdução\n",
    "\n"
   ]
  },
  {
   "cell_type": "markdown",
   "metadata": {},
   "source": [
    "Chegou a hora de finalizar a classe `Valor`!\n",
    "\n"
   ]
  },
  {
   "cell_type": "markdown",
   "metadata": {},
   "source": [
    "## Objetivo\n",
    "\n"
   ]
  },
  {
   "cell_type": "markdown",
   "metadata": {},
   "source": [
    "O objetivo é fazer com que a classe `Valor` seja capaz de realizar algumas operações necessárias para que seja usada na nossa rede neural artificial.\n",
    "\n"
   ]
  },
  {
   "cell_type": "markdown",
   "metadata": {},
   "source": [
    "## Importações\n",
    "\n"
   ]
  },
  {
   "cell_type": "code",
   "execution_count": 116,
   "metadata": {},
   "outputs": [],
   "source": [
    "import math\n",
    "from funcoes import plota_grafo"
   ]
  },
  {
   "cell_type": "markdown",
   "metadata": {},
   "source": [
    "## Código e discussão\n",
    "\n"
   ]
  },
  {
   "cell_type": "markdown",
   "metadata": {},
   "source": [
    "### Finalizando a classe `Valor`\n",
    "\n"
   ]
  },
  {
   "cell_type": "markdown",
   "metadata": {},
   "source": [
    "Aqui está a classe `Valor` assim como feita na aula anterior. Vamos modificá-la para cumprir nossos objetivos (ver objetivos na próxima seção).\n",
    "\n"
   ]
  },
  {
   "cell_type": "code",
   "execution_count": 117,
   "metadata": {},
   "outputs": [],
   "source": [
    "class Valor:\n",
    "    def __init__(self, data, progenitor=(), operador_mae=\"\", rotulo=\"\"):\n",
    "        self.data = data\n",
    "        self.progenitor = progenitor\n",
    "        self.operador_mae = operador_mae\n",
    "        self.rotulo = rotulo\n",
    "        self.grad = 0\n",
    "\n",
    "    def __repr__(self):\n",
    "        return f\"Valor(data={self.data})\"\n",
    "\n",
    "    def __add__(self, outro_valor):\n",
    "        if not isinstance(outro_valor, Valor):\n",
    "            outro_valor = Valor(outro_valor)\n",
    "        data = self.data + outro_valor.data\n",
    "        progenitor = (self, outro_valor)\n",
    "        operador_mae = \"+\"\n",
    "        saida = Valor(data, progenitor, operador_mae)\n",
    "\n",
    "        def propagar_adicao():\n",
    "            self.grad += saida.grad * 1\n",
    "            outro_valor.grad += saida.grad * 1\n",
    "\n",
    "        saida.propagar = propagar_adicao\n",
    "\n",
    "        return saida\n",
    "\n",
    "    def __radd__(self, outro_valor):\n",
    "        return self + outro_valor\n",
    "\n",
    "    def __mul__(self, outro_valor):\n",
    "        if not isinstance(outro_valor, Valor):\n",
    "            outro_valor = Valor(outro_valor)\n",
    "        data = self.data * outro_valor.data\n",
    "        progenitor = (self, outro_valor)\n",
    "        operador_mae = \"*\"\n",
    "        saida = Valor(data, progenitor, operador_mae)\n",
    "\n",
    "        def propagar_multiplicacao():\n",
    "            self.grad += saida.grad * outro_valor.data\n",
    "            outro_valor.grad += saida.grad * self.data\n",
    "\n",
    "        saida.propagar = propagar_multiplicacao\n",
    "\n",
    "        return saida\n",
    "\n",
    "    def __rmul__(self, outro_valor):\n",
    "        return self * outro_valor\n",
    "\n",
    "    def propagar(self):\n",
    "        pass\n",
    "\n",
    "    def exp(self):\n",
    "        data = math.exp(self.data)\n",
    "        progenitor = (self,)\n",
    "        operador_mae = \"exp\"\n",
    "        saida = Valor(data, progenitor, operador_mae)\n",
    "\n",
    "        def propagar_exp():\n",
    "            self.grad += saida.grad * data\n",
    "\n",
    "        saida.propagar = propagar_exp\n",
    "\n",
    "        return saida\n",
    "\n",
    "    def __pow__(self, expoente):\n",
    "        assert isinstance(expoente, (int, float))\n",
    "        data = self.data**expoente\n",
    "        progenitor = (self,)\n",
    "        operador_mae = f\"**{expoente}\"\n",
    "        saida = Valor(data, progenitor, operador_mae)\n",
    "\n",
    "        def propagar_pow():\n",
    "            self.grad += saida.grad * (expoente * (self.data ** (expoente - 1)))\n",
    "\n",
    "        saida.propagar = propagar_pow\n",
    "\n",
    "        return saida\n",
    "\n",
    "    def __truediv__(self, outro_valor):\n",
    "        return self * (outro_valor ** (-1))\n",
    "\n",
    "    def __neg__(self):\n",
    "        return self * -1\n",
    "\n",
    "    def __sub__(self, outro_valor):\n",
    "        return self + (-outro_valor)\n",
    "\n",
    "    def __rsub__(self, outro_valor):\n",
    "        return outro_valor + (-self)\n",
    "\n",
    "    def sig(self):\n",
    "        return self.exp() / (self.exp() + 1)\n",
    "\n",
    "    def propagar_tudo(self):\n",
    "        ordem_topologica = []\n",
    "        visitados = set()\n",
    "\n",
    "        def constroi_ordem_topologica(v):\n",
    "            if v not in visitados:\n",
    "                visitados.add(v)\n",
    "                for progenitor in v.progenitor:\n",
    "                    constroi_ordem_topologica(progenitor)\n",
    "                ordem_topologica.append(v)\n",
    "\n",
    "        constroi_ordem_topologica(self)\n",
    "\n",
    "        self.grad = 1  # o gradiente do vértice folha deve ser 1\n",
    "\n",
    "        for v in reversed(ordem_topologica):\n",
    "            v.propagar()"
   ]
  },
  {
   "cell_type": "markdown",
   "metadata": {},
   "source": [
    "### Objetivos a serem cumpridos\n",
    "\n"
   ]
  },
  {
   "cell_type": "markdown",
   "metadata": {},
   "source": [
    "Quero poder acidionar uma instância de `Valor` com uma constante qualquer.\n",
    "\n"
   ]
  },
  {
   "cell_type": "code",
   "execution_count": 118,
   "metadata": {},
   "outputs": [
    {
     "name": "stdout",
     "output_type": "stream",
     "text": [
      "Valor(data=11)\n"
     ]
    }
   ],
   "source": [
    "a = Valor(10, rotulo=\"a\")\n",
    "b = a + 1\n",
    "print(b)"
   ]
  },
  {
   "cell_type": "markdown",
   "metadata": {},
   "source": [
    "Quero poder multiplicar uma instância de `Valor` com uma constante qualquer.\n",
    "\n"
   ]
  },
  {
   "cell_type": "code",
   "execution_count": 119,
   "metadata": {},
   "outputs": [
    {
     "name": "stdout",
     "output_type": "stream",
     "text": [
      "Valor(data=100)\n"
     ]
    }
   ],
   "source": [
    "a = Valor(10, rotulo=\"a\")\n",
    "b = a * 10\n",
    "print(b)"
   ]
  },
  {
   "cell_type": "markdown",
   "metadata": {},
   "source": [
    "Quero poder acidionar uma instância de `Valor` com uma constante qualquer, mas na ordem oposta.\n",
    "\n"
   ]
  },
  {
   "cell_type": "code",
   "execution_count": 120,
   "metadata": {},
   "outputs": [
    {
     "name": "stdout",
     "output_type": "stream",
     "text": [
      "Valor(data=11)\n"
     ]
    }
   ],
   "source": [
    "a = Valor(10, rotulo=\"a\")\n",
    "b = 1 + a\n",
    "print(b)"
   ]
  },
  {
   "cell_type": "markdown",
   "metadata": {},
   "source": [
    "Quero poder multiplicar uma instância de `Valor` com uma constante qualquer, mas na ordem oposta.\n",
    "\n"
   ]
  },
  {
   "cell_type": "code",
   "execution_count": 121,
   "metadata": {},
   "outputs": [
    {
     "name": "stdout",
     "output_type": "stream",
     "text": [
      "Valor(data=100)\n"
     ]
    }
   ],
   "source": [
    "a = Valor(10, rotulo=\"a\")\n",
    "b = 10 * a\n",
    "print(b)"
   ]
  },
  {
   "cell_type": "markdown",
   "metadata": {},
   "source": [
    "Quero poder aplicar a função exponencial ($e^x$) em uma instância de `Valor`, computando corretamente o gradiente local desta operação.\n",
    "\n"
   ]
  },
  {
   "cell_type": "code",
   "execution_count": 122,
   "metadata": {},
   "outputs": [
    {
     "name": "stdout",
     "output_type": "stream",
     "text": [
      "Valor(data=2.718281828459045)\n"
     ]
    }
   ],
   "source": [
    "a = Valor(1, rotulo=\"a\")\n",
    "b = a.exp()\n",
    "print(b)"
   ]
  },
  {
   "cell_type": "markdown",
   "metadata": {},
   "source": [
    "Quero poder elevar uma instância de `Valor` a um número real qualquer. **Nota**: não vai funcionar se fizer um `Valor` elevado a outro `Valor` pois vamos propagar os gradientes apenas considerando que estamos elevando a uma constante qualquer.\n",
    "\n"
   ]
  },
  {
   "cell_type": "code",
   "execution_count": 123,
   "metadata": {},
   "outputs": [
    {
     "name": "stdout",
     "output_type": "stream",
     "text": [
      "Valor(data=100)\n"
     ]
    }
   ],
   "source": [
    "a = Valor(10, rotulo=\"a\")\n",
    "b = a**2\n",
    "print(b)"
   ]
  },
  {
   "cell_type": "markdown",
   "metadata": {},
   "source": [
    "Quero poder dividir uma instância de `Valor` por outra instância de `Valor`.\n",
    "\n"
   ]
  },
  {
   "cell_type": "code",
   "execution_count": 124,
   "metadata": {},
   "outputs": [
    {
     "name": "stdout",
     "output_type": "stream",
     "text": [
      "Valor(data=0.5)\n"
     ]
    }
   ],
   "source": [
    "a = Valor(1, rotulo=\"a\")\n",
    "b = Valor(2, rotulo=\"b\")\n",
    "c = a / b\n",
    "print(c)\n",
    "# plota_grafo(c)"
   ]
  },
  {
   "cell_type": "markdown",
   "metadata": {},
   "source": [
    "Quero poder computar o negativo de uma instância de `Valor`.\n",
    "\n"
   ]
  },
  {
   "cell_type": "code",
   "execution_count": 125,
   "metadata": {},
   "outputs": [
    {
     "name": "stdout",
     "output_type": "stream",
     "text": [
      "Valor(data=-1)\n"
     ]
    }
   ],
   "source": [
    "a = Valor(1, rotulo=\"a\")\n",
    "b = -a\n",
    "print(b)\n",
    "# plota_grafo(b)"
   ]
  },
  {
   "cell_type": "markdown",
   "metadata": {},
   "source": [
    "Quero poder subtrair uma instância de `Valor` por outra instância de `Valor`.\n",
    "\n"
   ]
  },
  {
   "cell_type": "code",
   "execution_count": 126,
   "metadata": {},
   "outputs": [
    {
     "name": "stdout",
     "output_type": "stream",
     "text": [
      "Valor(data=7)\n"
     ]
    }
   ],
   "source": [
    "a = Valor(10, rotulo=\"a\")\n",
    "b = Valor(3, rotulo=\"b\")\n",
    "c = a - b\n",
    "print(c)\n",
    "# plota_grafo(c)"
   ]
  },
  {
   "cell_type": "markdown",
   "metadata": {},
   "source": [
    "E, finalmente, quero poder aplicar a função sigmoide (também conhecida como logística) a uma instância de `Valor`. A função sigmoide é a seguinte:\n",
    "\n",
    "$$\n",
    "S(x) = \\frac{e^x}{e^x + 1}\n",
    "$$\n",
    "\n"
   ]
  },
  {
   "cell_type": "code",
   "execution_count": 129,
   "metadata": {},
   "outputs": [
    {
     "name": "stdout",
     "output_type": "stream",
     "text": [
      "Valor(data=0.7310585786300048)\n"
     ]
    },
    {
     "data": {
      "image/svg+xml": "<?xml version=\"1.0\" encoding=\"UTF-8\" standalone=\"no\"?>\n<!DOCTYPE svg PUBLIC \"-//W3C//DTD SVG 1.1//EN\"\n \"http://www.w3.org/Graphics/SVG/1.1/DTD/svg11.dtd\">\n<!-- Generated by graphviz version 2.43.0 (0)\n -->\n<!-- Title: %3 Pages: 1 -->\n<svg width=\"1836pt\" height=\"147pt\"\n viewBox=\"0.00 0.00 1835.79 147.00\" xmlns=\"http://www.w3.org/2000/svg\" xmlns:xlink=\"http://www.w3.org/1999/xlink\">\n<g id=\"graph0\" class=\"graph\" transform=\"scale(1 1) rotate(0) translate(4 143)\">\n<title>%3</title>\n<polygon fill=\"white\" stroke=\"transparent\" points=\"-4,4 -4,-143 1831.79,-143 1831.79,4 -4,4\"/>\n<!-- 140585717817488 -->\n<g id=\"node1\" class=\"node\">\n<title>140585717817488</title>\n<polygon fill=\"none\" stroke=\"black\" points=\"1247.79,-53.5 1247.79,-89.5 1474.79,-89.5 1474.79,-53.5 1247.79,-53.5\"/>\n<text text-anchor=\"middle\" x=\"1258.29\" y=\"-67.8\" font-family=\"Times,serif\" font-size=\"14.00\"> </text>\n<polyline fill=\"none\" stroke=\"black\" points=\"1268.79,-53.5 1268.79,-89.5 \"/>\n<text text-anchor=\"middle\" x=\"1319.79\" y=\"-67.8\" font-family=\"Times,serif\" font-size=\"14.00\">data 0.2689</text>\n<polyline fill=\"none\" stroke=\"black\" points=\"1370.79,-53.5 1370.79,-89.5 \"/>\n<text text-anchor=\"middle\" x=\"1422.79\" y=\"-67.8\" font-family=\"Times,serif\" font-size=\"14.00\">grad 2.7183</text>\n</g>\n<!-- 140585717819088* -->\n<g id=\"node8\" class=\"node\">\n<title>140585717819088*</title>\n<ellipse fill=\"none\" stroke=\"black\" cx=\"1537.79\" cy=\"-45.5\" rx=\"27\" ry=\"18\"/>\n<text text-anchor=\"middle\" x=\"1537.79\" y=\"-41.8\" font-family=\"Times,serif\" font-size=\"14.00\">*</text>\n</g>\n<!-- 140585717817488&#45;&gt;140585717819088* -->\n<g id=\"edge8\" class=\"edge\">\n<title>140585717817488&#45;&gt;140585717819088*</title>\n<path fill=\"none\" stroke=\"black\" d=\"M1475.27,-54.67C1484.56,-53.28 1493.43,-51.96 1501.39,-50.77\"/>\n<polygon fill=\"black\" stroke=\"black\" points=\"1501.92,-54.23 1511.3,-49.3 1500.89,-47.31 1501.92,-54.23\"/>\n</g>\n<!-- 140585717817488**&#45;1 -->\n<g id=\"node2\" class=\"node\">\n<title>140585717817488**&#45;1</title>\n<ellipse fill=\"none\" stroke=\"black\" cx=\"1183.19\" cy=\"-71.5\" rx=\"28.7\" ry=\"18\"/>\n<text text-anchor=\"middle\" x=\"1183.19\" y=\"-67.8\" font-family=\"Times,serif\" font-size=\"14.00\">**&#45;1</text>\n</g>\n<!-- 140585717817488**&#45;1&#45;&gt;140585717817488 -->\n<g id=\"edge1\" class=\"edge\">\n<title>140585717817488**&#45;1&#45;&gt;140585717817488</title>\n<path fill=\"none\" stroke=\"black\" d=\"M1212.1,-71.5C1219.57,-71.5 1228.16,-71.5 1237.35,-71.5\"/>\n<polygon fill=\"black\" stroke=\"black\" points=\"1237.54,-75 1247.54,-71.5 1237.54,-68 1237.54,-75\"/>\n</g>\n<!-- 140585717816976 -->\n<g id=\"node3\" class=\"node\">\n<title>140585717816976</title>\n<polygon fill=\"none\" stroke=\"black\" points=\"357.6,-102.5 357.6,-138.5 588.6,-138.5 588.6,-102.5 357.6,-102.5\"/>\n<text text-anchor=\"middle\" x=\"368.1\" y=\"-116.8\" font-family=\"Times,serif\" font-size=\"14.00\"> </text>\n<polyline fill=\"none\" stroke=\"black\" points=\"378.6,-102.5 378.6,-138.5 \"/>\n<text text-anchor=\"middle\" x=\"429.6\" y=\"-116.8\" font-family=\"Times,serif\" font-size=\"14.00\">data 2.7183</text>\n<polyline fill=\"none\" stroke=\"black\" points=\"480.6,-102.5 480.6,-138.5 \"/>\n<text text-anchor=\"middle\" x=\"534.6\" y=\"-116.8\" font-family=\"Times,serif\" font-size=\"14.00\">grad &#45;0.1966</text>\n</g>\n<!-- 140585717822160+ -->\n<g id=\"node6\" class=\"node\">\n<title>140585717822160+</title>\n<ellipse fill=\"none\" stroke=\"black\" cx=\"738.1\" cy=\"-73.5\" rx=\"27\" ry=\"18\"/>\n<text text-anchor=\"middle\" x=\"738.1\" y=\"-69.8\" font-family=\"Times,serif\" font-size=\"14.00\">+</text>\n</g>\n<!-- 140585717816976&#45;&gt;140585717822160+ -->\n<g id=\"edge12\" class=\"edge\">\n<title>140585717816976&#45;&gt;140585717822160+</title>\n<path fill=\"none\" stroke=\"black\" d=\"M575.03,-102.46C619.73,-94.47 669.42,-85.59 701.85,-79.8\"/>\n<polygon fill=\"black\" stroke=\"black\" points=\"702.52,-83.24 711.74,-78.03 701.28,-76.34 702.52,-83.24\"/>\n</g>\n<!-- 140585717816976exp -->\n<g id=\"node4\" class=\"node\">\n<title>140585717816976exp</title>\n<ellipse fill=\"none\" stroke=\"black\" cx=\"294.3\" cy=\"-108.5\" rx=\"27.1\" ry=\"18\"/>\n<text text-anchor=\"middle\" x=\"294.3\" y=\"-104.8\" font-family=\"Times,serif\" font-size=\"14.00\">exp</text>\n</g>\n<!-- 140585717816976exp&#45;&gt;140585717816976 -->\n<g id=\"edge2\" class=\"edge\">\n<title>140585717816976exp&#45;&gt;140585717816976</title>\n<path fill=\"none\" stroke=\"black\" d=\"M321.77,-110.3C329.19,-110.8 337.79,-111.38 347.05,-112.01\"/>\n<polygon fill=\"black\" stroke=\"black\" points=\"347.1,-115.52 357.31,-112.71 347.57,-108.54 347.1,-115.52\"/>\n</g>\n<!-- 140585717822160 -->\n<g id=\"node5\" class=\"node\">\n<title>140585717822160</title>\n<polygon fill=\"none\" stroke=\"black\" points=\"887.6,-54.5 887.6,-90.5 1118.6,-90.5 1118.6,-54.5 887.6,-54.5\"/>\n<text text-anchor=\"middle\" x=\"898.1\" y=\"-68.8\" font-family=\"Times,serif\" font-size=\"14.00\"> </text>\n<polyline fill=\"none\" stroke=\"black\" points=\"908.6,-54.5 908.6,-90.5 \"/>\n<text text-anchor=\"middle\" x=\"959.6\" y=\"-68.8\" font-family=\"Times,serif\" font-size=\"14.00\">data 3.7183</text>\n<polyline fill=\"none\" stroke=\"black\" points=\"1010.6,-54.5 1010.6,-90.5 \"/>\n<text text-anchor=\"middle\" x=\"1064.6\" y=\"-68.8\" font-family=\"Times,serif\" font-size=\"14.00\">grad &#45;0.1966</text>\n</g>\n<!-- 140585717822160&#45;&gt;140585717817488**&#45;1 -->\n<g id=\"edge10\" class=\"edge\">\n<title>140585717822160&#45;&gt;140585717817488**&#45;1</title>\n<path fill=\"none\" stroke=\"black\" d=\"M1118.65,-71.86C1127.75,-71.81 1136.46,-71.76 1144.36,-71.71\"/>\n<polygon fill=\"black\" stroke=\"black\" points=\"1144.6,-75.21 1154.58,-71.66 1144.56,-68.21 1144.6,-75.21\"/>\n</g>\n<!-- 140585717822160+&#45;&gt;140585717822160 -->\n<g id=\"edge3\" class=\"edge\">\n<title>140585717822160+&#45;&gt;140585717822160</title>\n<path fill=\"none\" stroke=\"black\" d=\"M765.27,-73.4C791.86,-73.3 835.01,-73.14 877.25,-72.97\"/>\n<polygon fill=\"black\" stroke=\"black\" points=\"877.39,-76.47 887.38,-72.94 877.37,-69.47 877.39,-76.47\"/>\n</g>\n<!-- 140585717819088 -->\n<g id=\"node7\" class=\"node\">\n<title>140585717819088</title>\n<polygon fill=\"none\" stroke=\"black\" points=\"1600.79,-27.5 1600.79,-63.5 1827.79,-63.5 1827.79,-27.5 1600.79,-27.5\"/>\n<text text-anchor=\"middle\" x=\"1611.29\" y=\"-41.8\" font-family=\"Times,serif\" font-size=\"14.00\"> </text>\n<polyline fill=\"none\" stroke=\"black\" points=\"1621.79,-27.5 1621.79,-63.5 \"/>\n<text text-anchor=\"middle\" x=\"1672.79\" y=\"-41.8\" font-family=\"Times,serif\" font-size=\"14.00\">data 0.7311</text>\n<polyline fill=\"none\" stroke=\"black\" points=\"1723.79,-27.5 1723.79,-63.5 \"/>\n<text text-anchor=\"middle\" x=\"1775.79\" y=\"-41.8\" font-family=\"Times,serif\" font-size=\"14.00\">grad 1.0000</text>\n</g>\n<!-- 140585717819088*&#45;&gt;140585717819088 -->\n<g id=\"edge4\" class=\"edge\">\n<title>140585717819088*&#45;&gt;140585717819088</title>\n<path fill=\"none\" stroke=\"black\" d=\"M1564.91,-45.5C1572.46,-45.5 1581.24,-45.5 1590.69,-45.5\"/>\n<polygon fill=\"black\" stroke=\"black\" points=\"1590.74,-49 1600.74,-45.5 1590.74,-42 1590.74,-49\"/>\n</g>\n<!-- 140585717822352 -->\n<g id=\"node9\" class=\"node\">\n<title>140585717822352</title>\n<polygon fill=\"none\" stroke=\"black\" points=\"0,-51.5 0,-87.5 231,-87.5 231,-51.5 0,-51.5\"/>\n<text text-anchor=\"middle\" x=\"12.5\" y=\"-65.8\" font-family=\"Times,serif\" font-size=\"14.00\">a</text>\n<polyline fill=\"none\" stroke=\"black\" points=\"25,-51.5 25,-87.5 \"/>\n<text text-anchor=\"middle\" x=\"76\" y=\"-65.8\" font-family=\"Times,serif\" font-size=\"14.00\">data 1.0000</text>\n<polyline fill=\"none\" stroke=\"black\" points=\"127,-51.5 127,-87.5 \"/>\n<text text-anchor=\"middle\" x=\"179\" y=\"-65.8\" font-family=\"Times,serif\" font-size=\"14.00\">grad 0.1966</text>\n</g>\n<!-- 140585717822352&#45;&gt;140585717816976exp -->\n<g id=\"edge6\" class=\"edge\">\n<title>140585717822352&#45;&gt;140585717816976exp</title>\n<path fill=\"none\" stroke=\"black\" d=\"M198.17,-87.52C219.15,-92.14 240.64,-96.88 257.87,-100.69\"/>\n<polygon fill=\"black\" stroke=\"black\" points=\"257.49,-104.18 268.01,-102.92 259,-97.35 257.49,-104.18\"/>\n</g>\n<!-- 140585717819792exp -->\n<g id=\"node11\" class=\"node\">\n<title>140585717819792exp</title>\n<ellipse fill=\"none\" stroke=\"black\" cx=\"294.3\" cy=\"-42.5\" rx=\"27.1\" ry=\"18\"/>\n<text text-anchor=\"middle\" x=\"294.3\" y=\"-38.8\" font-family=\"Times,serif\" font-size=\"14.00\">exp</text>\n</g>\n<!-- 140585717822352&#45;&gt;140585717819792exp -->\n<g id=\"edge7\" class=\"edge\">\n<title>140585717822352&#45;&gt;140585717819792exp</title>\n<path fill=\"none\" stroke=\"black\" d=\"M231.46,-51.94C240.73,-50.53 249.56,-49.18 257.5,-47.97\"/>\n<polygon fill=\"black\" stroke=\"black\" points=\"258.04,-51.43 267.39,-46.46 256.98,-44.51 258.04,-51.43\"/>\n</g>\n<!-- 140585717819792 -->\n<g id=\"node10\" class=\"node\">\n<title>140585717819792</title>\n<polygon fill=\"none\" stroke=\"black\" points=\"624.6,-0.5 624.6,-36.5 851.6,-36.5 851.6,-0.5 624.6,-0.5\"/>\n<text text-anchor=\"middle\" x=\"635.1\" y=\"-14.8\" font-family=\"Times,serif\" font-size=\"14.00\"> </text>\n<polyline fill=\"none\" stroke=\"black\" points=\"645.6,-0.5 645.6,-36.5 \"/>\n<text text-anchor=\"middle\" x=\"696.6\" y=\"-14.8\" font-family=\"Times,serif\" font-size=\"14.00\">data 2.7183</text>\n<polyline fill=\"none\" stroke=\"black\" points=\"747.6,-0.5 747.6,-36.5 \"/>\n<text text-anchor=\"middle\" x=\"799.6\" y=\"-14.8\" font-family=\"Times,serif\" font-size=\"14.00\">grad 0.2689</text>\n</g>\n<!-- 140585717819792&#45;&gt;140585717819088* -->\n<g id=\"edge11\" class=\"edge\">\n<title>140585717819792&#45;&gt;140585717819088*</title>\n<path fill=\"none\" stroke=\"black\" d=\"M851.69,-22.31C1034.34,-28.49 1386.24,-40.4 1500.21,-44.26\"/>\n<polygon fill=\"black\" stroke=\"black\" points=\"1500.37,-47.77 1510.48,-44.61 1500.6,-40.77 1500.37,-47.77\"/>\n</g>\n<!-- 140585717819792exp&#45;&gt;140585717819792 -->\n<g id=\"edge5\" class=\"edge\">\n<title>140585717819792exp&#45;&gt;140585717819792</title>\n<path fill=\"none\" stroke=\"black\" d=\"M321.66,-40.21C332.75,-39.29 345.79,-38.27 357.6,-37.5 443.26,-31.92 539.89,-27.1 614.21,-23.72\"/>\n<polygon fill=\"black\" stroke=\"black\" points=\"614.71,-27.2 624.54,-23.25 614.39,-20.2 614.71,-27.2\"/>\n</g>\n<!-- 140585717821392 -->\n<g id=\"node12\" class=\"node\">\n<title>140585717821392</title>\n<polygon fill=\"none\" stroke=\"black\" points=\"357.6,-47.5 357.6,-83.5 588.6,-83.5 588.6,-47.5 357.6,-47.5\"/>\n<text text-anchor=\"middle\" x=\"368.1\" y=\"-61.8\" font-family=\"Times,serif\" font-size=\"14.00\"> </text>\n<polyline fill=\"none\" stroke=\"black\" points=\"378.6,-47.5 378.6,-83.5 \"/>\n<text text-anchor=\"middle\" x=\"429.6\" y=\"-61.8\" font-family=\"Times,serif\" font-size=\"14.00\">data 1.0000</text>\n<polyline fill=\"none\" stroke=\"black\" points=\"480.6,-47.5 480.6,-83.5 \"/>\n<text text-anchor=\"middle\" x=\"534.6\" y=\"-61.8\" font-family=\"Times,serif\" font-size=\"14.00\">grad &#45;0.1966</text>\n</g>\n<!-- 140585717821392&#45;&gt;140585717822160+ -->\n<g id=\"edge9\" class=\"edge\">\n<title>140585717821392&#45;&gt;140585717822160+</title>\n<path fill=\"none\" stroke=\"black\" d=\"M588.69,-68.99C629.12,-70.22 671.73,-71.51 700.87,-72.4\"/>\n<polygon fill=\"black\" stroke=\"black\" points=\"700.86,-75.9 710.96,-72.71 701.07,-68.9 700.86,-75.9\"/>\n</g>\n</g>\n</svg>\n",
      "text/plain": [
       "<graphviz.graphs.Digraph at 0x7fdca9c545d0>"
      ]
     },
     "execution_count": 129,
     "metadata": {},
     "output_type": "execute_result"
    }
   ],
   "source": [
    "a = Valor(1, rotulo=\"a\")\n",
    "b = a.sig()\n",
    "print(b)\n",
    "b.propagar_tudo()\n",
    "plota_grafo(b)"
   ]
  },
  {
   "cell_type": "markdown",
   "metadata": {},
   "source": [
    "## Conclusão\n",
    "\n"
   ]
  },
  {
   "cell_type": "markdown",
   "metadata": {},
   "source": [
    "## Playground\n",
    "\n"
   ]
  },
  {
   "cell_type": "code",
   "execution_count": null,
   "metadata": {},
   "outputs": [],
   "source": []
  }
 ],
 "metadata": {
  "kernelspec": {
   "display_name": "redes",
   "language": "python",
   "name": "python3"
  },
  "language_info": {
   "codemirror_mode": {
    "name": "ipython",
    "version": 3
   },
   "file_extension": ".py",
   "mimetype": "text/x-python",
   "name": "python",
   "nbconvert_exporter": "python",
   "pygments_lexer": "ipython3",
   "version": "3.11.3"
  },
  "org": null,
  "vscode": {
   "interpreter": {
    "hash": "5bbde258093456ea76eb7c4c87b8c6856aa1510b2bf00d25f167a8651d45a906"
   }
  }
 },
 "nbformat": 4,
 "nbformat_minor": 4
}
