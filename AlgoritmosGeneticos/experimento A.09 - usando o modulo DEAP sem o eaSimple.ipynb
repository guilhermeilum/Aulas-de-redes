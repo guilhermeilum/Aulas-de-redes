{
 "cells": [
  {
   "cell_type": "markdown",
   "metadata": {},
   "source": [
    "Usando o módulo DEAP sem a função eaSimple\n",
    "==========================================\n",
    "\n"
   ]
  },
  {
   "cell_type": "markdown",
   "metadata": {},
   "source": [
    "## Introdução\n",
    "\n"
   ]
  },
  {
   "cell_type": "markdown",
   "metadata": {},
   "source": [
    "A função `eaSimple` é excelente para resolver algoritmos genéticos de maneira rápida e fácil, porém ela não é flexível. Não podemos, por exemplo, usar um outro critério de parada que não o de número de gerações.\n",
    "\n",
    "Podemos usar o `DEAP` sem a função `eaSimple`! Já sabemos os passos de como funciona um algoritmo genético, basta construir isso usando as ferramentas do `DEAP`.\n",
    "\n"
   ]
  },
  {
   "cell_type": "markdown",
   "metadata": {},
   "source": [
    "## Importações\n",
    "\n"
   ]
  },
  {
   "cell_type": "code",
   "execution_count": 1,
   "metadata": {},
   "outputs": [],
   "source": [
    "import random\n",
    "import numpy as np\n",
    "\n",
    "from deap import base\n",
    "from deap import creator\n",
    "from deap import tools\n",
    "\n",
    "from funcoes import gene_cb"
   ]
  },
  {
   "cell_type": "markdown",
   "metadata": {},
   "source": [
    "## Problema das caixas binárias usando `DEAP` sem a função `eaSimple`\n",
    "\n"
   ]
  },
  {
   "cell_type": "markdown",
   "metadata": {},
   "source": [
    "Antes de iniciar o problema, vamos importar as funções necessárias e definir as constantes.\n",
    "\n"
   ]
  },
  {
   "cell_type": "code",
   "execution_count": 19,
   "metadata": {},
   "outputs": [],
   "source": [
    "# relacionadas ao problema a ser resolvido\n",
    "NUM_CAIXAS = 100\n",
    "\n",
    "# relacionadas à busca\n",
    "TAMANHO_POP = 90\n",
    "NUM_GERACOES = 10000\n",
    "CHANCE_CRUZAMENTO = 0.5\n",
    "CHANCE_MUTACAO = 0.05\n",
    "CHANCE_MUTACAO_DE_CADA_GENE = 1 / NUM_CAIXAS\n",
    "NUM_COMBATENTES_NO_TORNEIO = 3\n",
    "TAMANHO_HALL_DA_FAMA = 1"
   ]
  },
  {
   "cell_type": "markdown",
   "metadata": {},
   "source": [
    "Precisamos definir a função objetivo.\n",
    "\n"
   ]
  },
  {
   "cell_type": "code",
   "execution_count": 20,
   "metadata": {},
   "outputs": [],
   "source": [
    "def funcao_objetivo_cb(individuo):\n",
    "    \"\"\"Computa a função objetivo no problema das caixas binárias.\n",
    "\n",
    "    Args:\n",
    "      individiuo: lista contendo os genes das caixas binárias\n",
    "\n",
    "    Return:\n",
    "      Uma tupla com o valor representando a soma dos genes do individuo.\n",
    "    \"\"\"\n",
    "    return (sum(individuo), )"
   ]
  },
  {
   "cell_type": "markdown",
   "metadata": {},
   "source": [
    "Vamos faver as definições que o `DEAP` necessita de forma similar ao que fizemos no experimento anterior. Veja que até aqui não tem nada de diferente do que já vimos!\n",
    "\n"
   ]
  },
  {
   "cell_type": "code",
   "execution_count": 21,
   "metadata": {},
   "outputs": [
    {
     "name": "stderr",
     "output_type": "stream",
     "text": [
      "c:\\Users\\guilherme220044\\Anaconda3\\envs\\Gene_rede\\lib\\site-packages\\deap\\creator.py:138: RuntimeWarning: A class named 'Fitness_max' has already been created and it will be overwritten. Consider deleting previous creation of that class or rename it.\n",
      "  warnings.warn(\"A class named '{0}' has already been created and it \"\n",
      "c:\\Users\\guilherme220044\\Anaconda3\\envs\\Gene_rede\\lib\\site-packages\\deap\\creator.py:138: RuntimeWarning: A class named 'Individuo' has already been created and it will be overwritten. Consider deleting previous creation of that class or rename it.\n",
      "  warnings.warn(\"A class named '{0}' has already been created and it \"\n"
     ]
    }
   ],
   "source": [
    "creator.create(\"Fitness_max\", base.Fitness, weights=(1.0,))\n",
    "creator.create(\"Individuo\", list, fitness=creator.Fitness_max)\n",
    "\n",
    "toolbox = base.Toolbox()\n",
    "\n",
    "toolbox.register(\n",
    "    \"individuo\", tools.initRepeat, creator.Individuo, gene_cb, NUM_CAIXAS\n",
    ")\n",
    "\n",
    "toolbox.register(\n",
    "    \"populacao\", tools.initRepeat, list, toolbox.individuo, TAMANHO_POP\n",
    ")\n",
    "\n",
    "toolbox.register(\"evaluate\", funcao_objetivo_cb)\n",
    "\n",
    "toolbox.register(\n",
    "    \"select\", tools.selTournament, tournsize=NUM_COMBATENTES_NO_TORNEIO\n",
    ")\n",
    "\n",
    "toolbox.register(\"mate\", tools.cxOnePoint)\n",
    "\n",
    "toolbox.register(\"mutate\", tools.mutFlipBit, indpb=CHANCE_MUTACAO_DE_CADA_GENE)\n",
    "\n",
    "hall_da_fama = tools.HallOfFame(TAMANHO_HALL_DA_FAMA)\n",
    "\n",
    "estatisticas = tools.Statistics(lambda ind: ind.fitness.values)\n",
    "estatisticas.register(\"avg\", np.mean)\n",
    "estatisticas.register(\"std\", np.std)\n",
    "estatisticas.register(\"min\", np.min)\n",
    "estatisticas.register(\"max\", np.max)\n",
    "\n",
    "log = tools.Logbook()"
   ]
  },
  {
   "cell_type": "markdown",
   "metadata": {},
   "source": [
    "Hora de programar o algoritmo genético!\n",
    "\n"
   ]
  },
  {
   "cell_type": "code",
   "execution_count": 22,
   "metadata": {},
   "outputs": [],
   "source": [
    "populacao = toolbox.populacao()\n",
    "\n",
    "# É assim que calculamos a fitness dos individuos com DEAP\n",
    "fitness = toolbox.map(toolbox.evaluate, populacao)\n",
    "\n",
    "# Precisamos agora inserir essa informação nos nossos individuos\n",
    "for ind, fit in zip(populacao, fitness):\n",
    "    ind.fitness.values = fit\n",
    "\n",
    "# Critério de parada neste caso é o número de gerações\n",
    "for n in range(NUM_GERACOES):\n",
    "\n",
    "    # Seleção\n",
    "    proxima_geracao = toolbox.select(populacao, len(populacao))\n",
    "\n",
    "    # Clone dos individuos (para evitar problemas com a forma que o python trabalha com listas)\n",
    "    proxima_geracao = [toolbox.clone(ind) for ind in proxima_geracao]\n",
    "\n",
    "    # Cruzamento\n",
    "    pais = populacao[0::2]\n",
    "    maes = populacao[1::2]\n",
    "\n",
    "    for pai, mae in zip(pais, maes):\n",
    "        if random.random() < CHANCE_CRUZAMENTO:\n",
    "            toolbox.mate(pai, mae)\n",
    "\n",
    "            # se cruzou, temos que deletar o fitness para calcular de novo\n",
    "            del pai.fitness.values\n",
    "            del mae.fitness.values\n",
    "\n",
    "    # Mutação\n",
    "    for possivel_mutante in proxima_geracao:\n",
    "        if random.random() < CHANCE_MUTACAO:\n",
    "            toolbox.mutate(possivel_mutante)\n",
    "\n",
    "            # se mutou, temos que deletar o fitness para calcular de novo\n",
    "            del possivel_mutante.fitness.values\n",
    "\n",
    "    # Calcular o fitness de todos que mutaram ou cruzaram\n",
    "    ind_sem_fitness = [ind for ind in proxima_geracao if not ind.fitness.valid]\n",
    "    fitness = toolbox.map(toolbox.evaluate, ind_sem_fitness)\n",
    "    for ind, fit in zip(ind_sem_fitness, fitness):\n",
    "        ind.fitness.values = fit\n",
    "\n",
    "    # Vamos atualizar a população!\n",
    "    populacao[:] = proxima_geracao\n",
    "\n",
    "    # Vamos atualizar o hall da fama\n",
    "    hall_da_fama.update(populacao)\n",
    "\n",
    "    # Vamos computar a estatística e atualizar o livro de registros\n",
    "    estatistica_local = estatisticas.compile(populacao)\n",
    "    log.record(gen=n + 1, nevals=len(ind_sem_fitness), **estatistica_local)\n",
    "    # print(log.stream)\n",
    "    if sum(hall_da_fama[0]) == NUM_CAIXAS:\n",
    "        break"
   ]
  },
  {
   "cell_type": "code",
   "execution_count": 23,
   "metadata": {},
   "outputs": [
    {
     "name": "stdout",
     "output_type": "stream",
     "text": [
      "Melhor indivíduo já visto:\n",
      "[[1, 1, 1, 1, 1, 1, 1, 1, 1, 1, 1, 1, 1, 1, 1, 1, 1, 1, 1, 1, 1, 1, 1, 1, 1, 1, 1, 1, 1, 1, 1, 1, 1, 1, 1, 1, 1, 1, 1, 1, 1, 1, 1, 1, 1, 1, 1, 1, 1, 1, 1, 1, 1, 1, 1, 1, 1, 1, 1, 1, 1, 1, 1, 1, 1, 1, 1, 1, 1, 1, 1, 1, 1, 1, 1, 1, 1, 1, 1, 1, 1, 1, 1, 1, 1, 1, 1, 1, 1, 1, 1, 1, 1, 1, 1, 1, 1, 1, 1, 1]]\n"
     ]
    }
   ],
   "source": [
    "print(\"Melhor indivíduo já visto:\")\n",
    "print(hall_da_fama.items)"
   ]
  }
 ],
 "metadata": {
  "kernelspec": {
   "display_name": "Gene_rede",
   "language": "python",
   "name": "python3"
  },
  "language_info": {
   "codemirror_mode": {
    "name": "ipython",
    "version": 3
   },
   "file_extension": ".py",
   "mimetype": "text/x-python",
   "name": "python",
   "nbconvert_exporter": "python",
   "pygments_lexer": "ipython3",
   "version": "3.9.16"
  },
  "org": null,
  "vscode": {
   "interpreter": {
    "hash": "bcd4dede4f8d6882e830230d2c9e458a695f73b271f5684e93aba7f6e3029824"
   }
  }
 },
 "nbformat": 4,
 "nbformat_minor": 4
}
