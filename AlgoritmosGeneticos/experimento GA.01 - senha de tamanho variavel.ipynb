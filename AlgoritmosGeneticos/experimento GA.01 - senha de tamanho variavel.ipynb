{
 "cells": [
  {
   "cell_type": "markdown",
   "metadata": {},
   "source": [
    "Escreva aqui o título do seu experimento\n",
    "========================================\n",
    "\n"
   ]
  },
  {
   "cell_type": "markdown",
   "metadata": {},
   "source": [
    "## Introdução\n",
    "\n"
   ]
  },
  {
   "attachments": {},
   "cell_type": "markdown",
   "metadata": {},
   "source": [
    "O problema escolido foi o problema da senha sem a informação do tamanho da mesma, para a função que gera a população."
   ]
  },
  {
   "cell_type": "markdown",
   "metadata": {},
   "source": [
    "## Objetivo\n",
    "\n"
   ]
  },
  {
   "attachments": {},
   "cell_type": "markdown",
   "metadata": {},
   "source": [
    "O objetivo é criar um algoritimo que consegue descobrir a senha idependente do tamanho, para isso a logica utilizada será duas, uma função objetivo que considera o erro do tamanho, e uma função mutação do tamanho, que pode ou não mudar o tamanho aleatoriamente. Para facilitar utilizarei o codigo antigo."
   ]
  },
  {
   "cell_type": "markdown",
   "metadata": {},
   "source": [
    "## Importações\n",
    "\n"
   ]
  },
  {
   "cell_type": "markdown",
   "metadata": {},
   "source": [
    "Todos os comandos de `import` devem estar dentro desta seção.\n",
    "\n"
   ]
  },
  {
   "cell_type": "code",
   "execution_count": 5,
   "metadata": {},
   "outputs": [],
   "source": [
    "from funcoes import populacao_inicial_senha\n",
    "from funcoes import funcao_objetivo_pop_senha_sem_tamanho\n",
    "from funcoes import selecao_torneio_min\n",
    "from funcoes import cruzamento_ponto_simples as funcao_cruzamento\n",
    "from funcoes import mutacao_senha\n",
    "# from funcoes import mutacao_tamanho_senha\n",
    "import random"
   ]
  },
  {
   "cell_type": "markdown",
   "metadata": {},
   "source": [
    "## Códigos e discussão\n",
    "\n"
   ]
  },
  {
   "cell_type": "markdown",
   "metadata": {},
   "source": [
    "-   Use células de código para o código.\n",
    "\n",
    "-   Use células de texto para a discussão.\n",
    "\n",
    "-   A discussão não deve ser feita em comentários dentro das células de código. Toda discussão deve acontecer após o resultado sendo discutido foi apresentado. Exemplo: não discuta um gráfico antes de apresentá-lo.\n",
    "\n"
   ]
  },
  {
   "cell_type": "code",
   "execution_count": 6,
   "metadata": {},
   "outputs": [],
   "source": [
    "### CONSTANTES\n",
    "\n",
    "# relacionadas à busca\n",
    "TAMANHO_POP = 50\n",
    "CHANCE_CRUZAMENTO = 0.5\n",
    "CHANCE_MUTACAO = 0.05\n",
    "CHANCE_MUTACAO_TAMANHO = 0.1\n",
    "NUM_COMBATENTES_NO_TORNEIO = 3\n",
    "\n",
    "# relacionadas ao problema a ser resulvido\n",
    "SENHA = \"correcthorsebatterystaple\"\n",
    "LETRAS_POSSIVEIS = \"abcdefghijklmnopqrstuvwxyz\"\n",
    "NUM_GENES = random.choice(range(1,len(SENHA)+5))"
   ]
  },
  {
   "cell_type": "code",
   "execution_count": 7,
   "metadata": {},
   "outputs": [],
   "source": [
    "# funções locais\n",
    "\n",
    "def cria_populacao_inicial(tamanho, tamanho_senha):\n",
    "    return populacao_inicial_senha(tamanho, tamanho_senha, LETRAS_POSSIVEIS)\n",
    "\n",
    "def funcao_objetivo_pop(populacao):\n",
    "    return funcao_objetivo_pop_senha_sem_tamanho(populacao, SENHA)\n",
    "\n",
    "def funcao_selecao(populacao, fitness):\n",
    "    return selecao_torneio_min(populacao, fitness, NUM_COMBATENTES_NO_TORNEIO)\n",
    "\n",
    "def funcao_mutacao(individuo):\n",
    "    return mutacao_senha(individuo, LETRAS_POSSIVEIS)"
   ]
  },
  {
   "cell_type": "code",
   "execution_count": 9,
   "metadata": {},
   "outputs": [
    {
     "name": "stdout",
     "output_type": "stream",
     "text": [
      "Progresso da melhor senha já vista:\n",
      "chhpzbbhbrlfcaebcvomyepk - fitness: 156\n",
      "amqmlfkhrxogobsosdrpucfh - fitness: 129\n",
      "neqelfkhrxogobsoexwmyepk - fitness: 123\n",
      "gzrxdvwhrxogobsoexwmyepk - fitness: 113\n",
      "gzrxdvwhrxogobtoexwmyepk - fitness: 112\n",
      "gzrxdfkhrxogobsoexwmyepk - fitness: 103\n",
      "gzrxdbwhrxoeobsoexwmyepk - fitness: 93\n",
      "gzrxdfwhrxogibsoexwmyepk - fitness: 91\n",
      "gzrxdbwhrxogibsoexwmyepk - fitness: 89\n",
      "gzrxdbwhrxogibsoexwmwepk - fitness: 87\n",
      "gurxdbwhrxogibsoexwmyepk - fitness: 84\n",
      "gurxdbwhrxogibsoexwmwepk - fitness: 82\n",
      "gurxdbwhrxogdbsoexwmwepk - fitness: 77\n",
      "gurxdbwhrxpgdbsoexwmwepk - fitness: 76\n",
      "gurxdbwhrvoddbsoexwmwepk - fitness: 74\n",
      "gurxdbwhruoddbsoexwmwepk - fitness: 73\n",
      "gurxdbuhruoddbsoexwmwepk - fitness: 71\n",
      "gurxdbwhruoddbsvexwmwepk - fitness: 70\n",
      "gurxdbuhruoddbsvexwmwepk - fitness: 68\n",
      "gurxdbuhruoddbsvexwmvepk - fitness: 67\n",
      "gurxdbuhruodbbsvexwmvepk - fitness: 65\n",
      "gprxdbuhruoedbsvexwmvepk - fitness: 61\n",
      "gprxdbuhruodbbsvexwmvepk - fitness: 60\n",
      "gprxdbuhruodbbsvexwwvepk - fitness: 58\n",
      "gprxdbuhruoebbsvexwwvepk - fitness: 57\n",
      "gprxdbuhruoebbsvexwrvepk - fitness: 54\n",
      "gprodbuhruoebbsvexwrvepk - fitness: 51\n",
      "eprodbuhruoebbsvexwrvepk - fitness: 49\n",
      "eprodbuhrupebbsvexwrvdpk - fitness: 47\n",
      "eprodbuhqupebbsvexwrvdpk - fitness: 46\n",
      "eprodbuhquoebbsverwrvdpk - fitness: 41\n",
      "eprodbuhqupebbsverwrvdpk - fitness: 40\n",
      "eprodbuhquoebbsterwrudpk - fitness: 38\n",
      "eprodbuhqupebbsterwrudpk - fitness: 37\n",
      "eprrdbuhqupebbsterwrudpk - fitness: 34\n",
      "eprrdbuhqurebbsterwrudpk - fitness: 32\n",
      "eprrdbuhnurebbsterwrudpk - fitness: 31\n",
      "eprrdbuhnurebbsterwrtdpk - fitness: 30\n",
      "eprrdbuhnurebbsterwrtapk - fitness: 27\n",
      "eprrdbuhnurebasterwrtapk - fitness: 26\n",
      "dprrdbuhnurebasterwrtapk - fitness: 25\n",
      "dorrdbuhnurebasterwrtapk - fitness: 24\n",
      "dorrdbuhnprebasterwrtapk - fitness: 23\n",
      "dorrdduhnprebasterxrtapk - fitness: 22\n",
      "dorrdbuhnprebasteryrtapk - fitness: 21\n",
      "dorrdbuhnsrebasteryrtapk - fitness: 20\n",
      "dorrdbuhnrrebasteryrtapk - fitness: 19\n",
      "dorrdbuhorrebasteryrtapk - fitness: 18\n",
      "dorrdcuhorrebasteryrtapk - fitness: 17\n",
      "dorrdcthorrebasteryrtapk - fitness: 16\n",
      "dorrecthorrebasteryrtapk - fitness: 15\n",
      "dorrecthorsebasteryrtapk - fitness: 14\n",
      "dorrecthorsebatteryrtapk - fitness: 13\n",
      "correcthorsebatteryrtapk - fitness: 12\n",
      "correcthorsebatterystapk - fitness: 11\n",
      "correcthorsebatterystapl - fitness: 10\n"
     ]
    },
    {
     "ename": "KeyboardInterrupt",
     "evalue": "",
     "output_type": "error",
     "traceback": [
      "\u001b[1;31m---------------------------------------------------------------------------\u001b[0m",
      "\u001b[1;31mKeyboardInterrupt\u001b[0m                         Traceback (most recent call last)",
      "\u001b[1;32mc:\\Users\\guilherme220044\\Desktop\\projetos_python\\redes\\Aulas-de-redes\\AlgoritmosGeneticos\\experimento GA.01 - senha de tamanho variavel.ipynb Célula: 13\u001b[0m in \u001b[0;36m<cell line: 7>\u001b[1;34m()\u001b[0m\n\u001b[0;32m      <a href='vscode-notebook-cell:/c%3A/Users/guilherme220044/Desktop/projetos_python/redes/Aulas-de-redes/AlgoritmosGeneticos/experimento%20GA.01%20-%20senha%20de%20tamanho%20variavel.ipynb#X15sZmlsZQ%3D%3D?line=6'>7</a>\u001b[0m \u001b[39mwhile\u001b[39;00m melhor_fitness_ja_visto \u001b[39m!=\u001b[39m \u001b[39m0\u001b[39m:\n\u001b[0;32m      <a href='vscode-notebook-cell:/c%3A/Users/guilherme220044/Desktop/projetos_python/redes/Aulas-de-redes/AlgoritmosGeneticos/experimento%20GA.01%20-%20senha%20de%20tamanho%20variavel.ipynb#X15sZmlsZQ%3D%3D?line=7'>8</a>\u001b[0m     \n\u001b[0;32m      <a href='vscode-notebook-cell:/c%3A/Users/guilherme220044/Desktop/projetos_python/redes/Aulas-de-redes/AlgoritmosGeneticos/experimento%20GA.01%20-%20senha%20de%20tamanho%20variavel.ipynb#X15sZmlsZQ%3D%3D?line=8'>9</a>\u001b[0m     \u001b[39m# Seleção\u001b[39;00m\n\u001b[0;32m     <a href='vscode-notebook-cell:/c%3A/Users/guilherme220044/Desktop/projetos_python/redes/Aulas-de-redes/AlgoritmosGeneticos/experimento%20GA.01%20-%20senha%20de%20tamanho%20variavel.ipynb#X15sZmlsZQ%3D%3D?line=9'>10</a>\u001b[0m     fitness \u001b[39m=\u001b[39m funcao_objetivo_pop(populacao)\n\u001b[1;32m---> <a href='vscode-notebook-cell:/c%3A/Users/guilherme220044/Desktop/projetos_python/redes/Aulas-de-redes/AlgoritmosGeneticos/experimento%20GA.01%20-%20senha%20de%20tamanho%20variavel.ipynb#X15sZmlsZQ%3D%3D?line=10'>11</a>\u001b[0m     populacao \u001b[39m=\u001b[39m funcao_selecao(populacao, fitness)\n\u001b[0;32m     <a href='vscode-notebook-cell:/c%3A/Users/guilherme220044/Desktop/projetos_python/redes/Aulas-de-redes/AlgoritmosGeneticos/experimento%20GA.01%20-%20senha%20de%20tamanho%20variavel.ipynb#X15sZmlsZQ%3D%3D?line=12'>13</a>\u001b[0m     \u001b[39m# Cruzamento\u001b[39;00m\n\u001b[0;32m     <a href='vscode-notebook-cell:/c%3A/Users/guilherme220044/Desktop/projetos_python/redes/Aulas-de-redes/AlgoritmosGeneticos/experimento%20GA.01%20-%20senha%20de%20tamanho%20variavel.ipynb#X15sZmlsZQ%3D%3D?line=13'>14</a>\u001b[0m     pais \u001b[39m=\u001b[39m populacao[\u001b[39m0\u001b[39m::\u001b[39m2\u001b[39m]\n",
      "\u001b[1;32mc:\\Users\\guilherme220044\\Desktop\\projetos_python\\redes\\Aulas-de-redes\\AlgoritmosGeneticos\\experimento GA.01 - senha de tamanho variavel.ipynb Célula: 13\u001b[0m in \u001b[0;36mfuncao_selecao\u001b[1;34m(populacao, fitness)\u001b[0m\n\u001b[0;32m      <a href='vscode-notebook-cell:/c%3A/Users/guilherme220044/Desktop/projetos_python/redes/Aulas-de-redes/AlgoritmosGeneticos/experimento%20GA.01%20-%20senha%20de%20tamanho%20variavel.ipynb#X15sZmlsZQ%3D%3D?line=8'>9</a>\u001b[0m \u001b[39mdef\u001b[39;00m \u001b[39mfuncao_selecao\u001b[39m(populacao, fitness):\n\u001b[1;32m---> <a href='vscode-notebook-cell:/c%3A/Users/guilherme220044/Desktop/projetos_python/redes/Aulas-de-redes/AlgoritmosGeneticos/experimento%20GA.01%20-%20senha%20de%20tamanho%20variavel.ipynb#X15sZmlsZQ%3D%3D?line=9'>10</a>\u001b[0m     \u001b[39mreturn\u001b[39;00m selecao_torneio_min(populacao, fitness, NUM_COMBATENTES_NO_TORNEIO)\n",
      "File \u001b[1;32mc:\\Users\\guilherme220044\\Desktop\\projetos_python\\redes\\Aulas-de-redes\\AlgoritmosGeneticos\\funcoes.py:246\u001b[0m, in \u001b[0;36mselecao_torneio_min\u001b[1;34m(populacao, fitness, tamanho_torneio)\u001b[0m\n\u001b[0;32m    244\u001b[0m \u001b[39m# vamos fazer len(populacao) torneios! Que comecem os jogos!\u001b[39;00m\n\u001b[0;32m    245\u001b[0m \u001b[39mfor\u001b[39;00m _ \u001b[39min\u001b[39;00m \u001b[39mrange\u001b[39m(\u001b[39mlen\u001b[39m(populacao)):\n\u001b[1;32m--> 246\u001b[0m     combatentes \u001b[39m=\u001b[39m sample(par_populacao_fitness, tamanho_torneio)\n\u001b[0;32m    248\u001b[0m     \u001b[39m# é assim que se escreve infinito em python\u001b[39;00m\n\u001b[0;32m    249\u001b[0m     minimo_fitness \u001b[39m=\u001b[39m \u001b[39mfloat\u001b[39m(\u001b[39m\"\u001b[39m\u001b[39minf\u001b[39m\u001b[39m\"\u001b[39m)\n",
      "File \u001b[1;32mc:\\Users\\guilherme220044\\Anaconda3\\envs\\IC\\lib\\random.py:454\u001b[0m, in \u001b[0;36mRandom.sample\u001b[1;34m(self, population, k, counts)\u001b[0m\n\u001b[0;32m    452\u001b[0m \u001b[39mif\u001b[39;00m k \u001b[39m>\u001b[39m \u001b[39m5\u001b[39m:\n\u001b[0;32m    453\u001b[0m     setsize \u001b[39m+\u001b[39m\u001b[39m=\u001b[39m \u001b[39m4\u001b[39m \u001b[39m*\u001b[39m\u001b[39m*\u001b[39m _ceil(_log(k \u001b[39m*\u001b[39m \u001b[39m3\u001b[39m, \u001b[39m4\u001b[39m))  \u001b[39m# table size for big sets\u001b[39;00m\n\u001b[1;32m--> 454\u001b[0m \u001b[39mif\u001b[39;00m n \u001b[39m<\u001b[39;49m\u001b[39m=\u001b[39;49m setsize:\n\u001b[0;32m    455\u001b[0m     \u001b[39m# An n-length list is smaller than a k-length set.\u001b[39;00m\n\u001b[0;32m    456\u001b[0m     \u001b[39m# Invariant:  non-selected at pool[0 : n-i]\u001b[39;00m\n\u001b[0;32m    457\u001b[0m     pool \u001b[39m=\u001b[39m \u001b[39mlist\u001b[39m(population)\n\u001b[0;32m    458\u001b[0m     \u001b[39mfor\u001b[39;00m i \u001b[39min\u001b[39;00m \u001b[39mrange\u001b[39m(k):\n",
      "\u001b[1;31mKeyboardInterrupt\u001b[0m: "
     ]
    }
   ],
   "source": [
    "populacao = cria_populacao_inicial(TAMANHO_POP, NUM_GENES)\n",
    "\n",
    "melhor_fitness_ja_visto = float(\"inf\")  # é assim que escrevemos infinito em python\n",
    "\n",
    "print(\"Progresso da melhor senha já vista:\")\n",
    "\n",
    "while melhor_fitness_ja_visto != 0:\n",
    "    \n",
    "    # Seleção\n",
    "    fitness = funcao_objetivo_pop(populacao)\n",
    "    populacao = funcao_selecao(populacao, fitness)\n",
    "    \n",
    "    # Cruzamento\n",
    "    pais = populacao[0::2]\n",
    "    maes = populacao[1::2]\n",
    "    \n",
    "    contador = 0\n",
    "    \n",
    "    for pai, mae in zip(pais, maes):\n",
    "        if random.random() <= CHANCE_CRUZAMENTO:\n",
    "            filho1, filho2 = funcao_cruzamento(pai, mae)\n",
    "            populacao[contador] = filho1\n",
    "            populacao[contador + 1] = filho2\n",
    "        \n",
    "        contador = contador + 2   \n",
    "        \n",
    "    # Mutação\n",
    "    for n in range(len(populacao)):\n",
    "        if random.random() <= CHANCE_MUTACAO:\n",
    "            individuo = populacao[n]\n",
    "            populacao[n] = funcao_mutacao(individuo)            \n",
    "            \n",
    "    # melhor individuo já visto até agora\n",
    "    fitness = funcao_objetivo_pop(populacao)\n",
    "    menor_fitness = min(fitness)\n",
    "    if menor_fitness < melhor_fitness_ja_visto:        \n",
    "        posicao = fitness.index(menor_fitness)\n",
    "        melhor_individuo_ja_visto = populacao[posicao]\n",
    "        melhor_fitness_ja_visto = menor_fitness\n",
    "        print(\"\".join(melhor_individuo_ja_visto), \"- fitness:\", melhor_fitness_ja_visto)\n",
    "\n",
    "print()\n",
    "print(\"Melhor palpite da senha encontrado:\")\n",
    "print(\"\".join(melhor_individuo_ja_visto))"
   ]
  },
  {
   "cell_type": "markdown",
   "metadata": {},
   "source": [
    "## Conclusão\n",
    "\n"
   ]
  },
  {
   "cell_type": "markdown",
   "metadata": {},
   "source": [
    "Delete este texto e escreva sua conclusão.\n",
    "\n"
   ]
  },
  {
   "cell_type": "markdown",
   "metadata": {},
   "source": [
    "## Referências consultadas\n",
    "\n"
   ]
  },
  {
   "cell_type": "markdown",
   "metadata": {},
   "source": [
    "1.  Delete este texto e inclua suas referências ordenadas numericamente. Se for referenciar no notebook, use o número entre colchetes (exemplo: para citar essa referência aqui escreva &ldquo;[1]&rdquo; sem as áspas).\n",
    "\n",
    "2.  Cada item deve ser numerado. Siga o padrão apresentado.\n",
    "\n",
    "3.  Caso não tenha nenhuma referência consultada, delete esta seção e o texto contido nela!\n",
    "\n"
   ]
  },
  {
   "cell_type": "markdown",
   "metadata": {},
   "source": [
    "## Playground\n",
    "\n"
   ]
  },
  {
   "cell_type": "markdown",
   "metadata": {},
   "source": [
    "Todo código de teste que não faz parte do seu experimento deve vir aqui. Este código não será considerado na avaliação.\n",
    "\n"
   ]
  },
  {
   "cell_type": "code",
   "execution_count": null,
   "metadata": {},
   "outputs": [],
   "source": []
  }
 ],
 "metadata": {
  "kernelspec": {
   "display_name": "IC",
   "language": "python",
   "name": "python3"
  },
  "language_info": {
   "codemirror_mode": {
    "name": "ipython",
    "version": 3
   },
   "file_extension": ".py",
   "mimetype": "text/x-python",
   "name": "python",
   "nbconvert_exporter": "python",
   "pygments_lexer": "ipython3",
   "version": "3.9.16"
  },
  "org": null,
  "vscode": {
   "interpreter": {
    "hash": "3dbf9b8080ee84292f92b8a4b786af7296183e4b378576bd5b8a38ccd79d91e4"
   }
  }
 },
 "nbformat": 4,
 "nbformat_minor": 4
}
