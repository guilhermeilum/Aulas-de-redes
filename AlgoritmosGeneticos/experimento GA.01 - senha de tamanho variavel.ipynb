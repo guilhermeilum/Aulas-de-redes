{
 "cells": [
  {
   "cell_type": "markdown",
   "metadata": {},
   "source": [
    "Escreva aqui o título do seu experimento\n",
    "========================================\n",
    "\n"
   ]
  },
  {
   "cell_type": "markdown",
   "metadata": {},
   "source": [
    "## Introdução\n",
    "\n"
   ]
  },
  {
   "attachments": {},
   "cell_type": "markdown",
   "metadata": {},
   "source": [
    "O problema escolido foi o problema da senha sem a informação do tamanho da mesma, para a função que gera a população."
   ]
  },
  {
   "cell_type": "markdown",
   "metadata": {},
   "source": [
    "## Objetivo\n",
    "\n"
   ]
  },
  {
   "attachments": {},
   "cell_type": "markdown",
   "metadata": {},
   "source": [
    "O objetivo é criar um algoritimo que consegue descobrir a senha idependente do tamanho, para isso a logica utilizada será duas, uma função objetivo que considera o erro do tamanho, e uma função mutação do tamanho, que pode ou não mudar o tamanho aleatoriamente. Para facilitar utilizarei o codigo antigo."
   ]
  },
  {
   "cell_type": "markdown",
   "metadata": {},
   "source": [
    "## Importações\n",
    "\n"
   ]
  },
  {
   "cell_type": "markdown",
   "metadata": {},
   "source": [
    "Todos os comandos de `import` devem estar dentro desta seção.\n",
    "\n"
   ]
  },
  {
   "cell_type": "code",
   "execution_count": 37,
   "metadata": {},
   "outputs": [],
   "source": [
    "from funcoes import populacao_inicial_senha\n",
    "from funcoes import funcao_objetivo_pop_senha_sem_tamanho\n",
    "from funcoes import selecao_torneio_min\n",
    "from funcoes import cruzamento_ponto_simples as funcao_cruzamento\n",
    "from funcoes import mutacao_senha\n",
    "from funcoes import mutacao_tamanho_senha\n",
    "import random"
   ]
  },
  {
   "cell_type": "markdown",
   "metadata": {},
   "source": [
    "## Códigos e discussão\n",
    "\n"
   ]
  },
  {
   "cell_type": "markdown",
   "metadata": {},
   "source": [
    "-   Use células de código para o código.\n",
    "\n",
    "-   Use células de texto para a discussão.\n",
    "\n",
    "-   A discussão não deve ser feita em comentários dentro das células de código. Toda discussão deve acontecer após o resultado sendo discutido foi apresentado. Exemplo: não discuta um gráfico antes de apresentá-lo.\n",
    "\n"
   ]
  },
  {
   "cell_type": "code",
   "execution_count": 38,
   "metadata": {},
   "outputs": [
    {
     "name": "stdout",
     "output_type": "stream",
     "text": [
      "9\n"
     ]
    }
   ],
   "source": [
    "### CONSTANTES\n",
    "\n",
    "# relacionadas à busca\n",
    "TAMANHO_POP = 50\n",
    "CHANCE_CRUZAMENTO = 0.5\n",
    "CHANCE_MUTACAO = 0.05\n",
    "CHANCE_MUTACAO_TAMANHO = 0.05\n",
    "TAMANHO_MAXIMO_MUTACAO = 3\n",
    "NUM_COMBATENTES_NO_TORNEIO = 3\n",
    "\n",
    "# relacionadas ao problema a ser resulvido\n",
    "SENHA = \"correcthorsebatterystaple\"\n",
    "LETRAS_POSSIVEIS = (\n",
    "    \"abcdefghijklmnopqrstuvwxyzABCDEFGHIJKLMNOPQRSTUVWXYZ1234567890!@#$%¨&*():\"\n",
    ")\n",
    "NUM_GENES = random.choice(range(1, len(SENHA) + 5))\n",
    "print(NUM_GENES)"
   ]
  },
  {
   "cell_type": "code",
   "execution_count": 39,
   "metadata": {},
   "outputs": [],
   "source": [
    "# funções locais\n",
    "\n",
    "\n",
    "def cria_populacao_inicial(tamanho, tamanho_senha):\n",
    "    return populacao_inicial_senha(tamanho, tamanho_senha, LETRAS_POSSIVEIS)\n",
    "\n",
    "\n",
    "def funcao_objetivo_pop(populacao):\n",
    "    return funcao_objetivo_pop_senha_sem_tamanho(populacao, SENHA)\n",
    "\n",
    "\n",
    "def funcao_selecao(populacao, fitness):\n",
    "    return selecao_torneio_min(populacao, fitness, NUM_COMBATENTES_NO_TORNEIO)\n",
    "\n",
    "\n",
    "def funcao_mutacao(individuo):\n",
    "    return mutacao_senha(individuo, LETRAS_POSSIVEIS)\n",
    "\n",
    "\n",
    "def funcao_mutacao_tamanho(individuo):\n",
    "    return mutacao_tamanho_senha(individuo, LETRAS_POSSIVEIS, TAMANHO_MAXIMO_MUTACAO)"
   ]
  },
  {
   "cell_type": "code",
   "execution_count": 40,
   "metadata": {},
   "outputs": [
    {
     "name": "stdout",
     "output_type": "stream",
     "text": [
      "Progresso da melhor senha já vista:\n",
      "ycqmncuja - fitness: 226\n",
      "Ucqmncuqq - fitness: 213\n",
      "gcqmncuja - fitness: 208\n",
      "gcqmncumn - fitness: 198\n",
      "gcqmncuqqwp - fitness: 191\n",
      "gcqmncumnp - fitness: 190\n",
      "gcmnccumqp - fitness: 187\n",
      "gcqnccumqp - fitness: 183\n",
      "gcqtccumqp - fitness: 181\n",
      "gcqtccumqppu - fitness: 180\n",
      "gcqtccumqppuar - fitness: 178\n",
      "gcqtccumqpu - fitness: 173\n",
      "gcqtccumqppua - fitness: 171\n",
      "gcqtccumqpua - fitness: 167\n",
      "gcqtccumqpuaa - fitness: 158\n",
      "gcqtccumqpuaXkuo - fitness: 153\n",
      "gcqtccumqpuaXkup - fitness: 152\n",
      "gcqtccumqpuaXkuol - fitness: 150\n",
      "gnqtccumqpuaa - fitness: 147\n",
      "gnqtccumqpuaXkuol - fitness: 139\n",
      "gnqtccumqpuaakuol - fitness: 130\n",
      "gnqtccumopuaakuol - fitness: 128\n",
      "gnqtccumopuaakuolv - fitness: 122\n",
      "gnqtccumopuaakuolvzef - fitness: 121\n",
      "dnqtccumopuaakuolv - fitness: 119\n",
      "dnqtccumopuaaduolv - fitness: 112\n",
      "dnqtccumopuaakuolvw - fitness: 111\n",
      "dnqtccumopuaaduolvw - fitness: 104\n",
      "dnqtccumopuaakuolvwuw - fitness: 96\n",
      "dnqtccumopuaaduolvwuw - fitness: 89\n",
      "dnqtccumopuaaduolvwuqg - fitness: 85\n",
      "dnqtccumopuaaduolvwuqgwsq - fitness: 81\n",
      "dnqtccumopuaaduolvwuqghgeu - fitness: 78\n",
      "dnqtccumopuaaduolvwuqghge - fitness: 68\n",
      "dnqtccueopuaaduolvwuqghge - fitness: 66\n",
      "dnqtccueopuaaduwlvwuqghge - fitness: 64\n",
      "dnqtccueopuaaduslvwuqghge - fitness: 62\n",
      "dnqtccueopuaaduslvwuqgoge - fitness: 55\n",
      "dnqtccueopugaduslvwuqgoge - fitness: 53\n",
      "dnqtccueopugaduslvwsqgoge - fitness: 51\n",
      "dnqtccueorugaduslvwsqgoge - fitness: 49\n",
      "dnqtccueorugaduscvwsqgoge - fitness: 44\n",
      "dnqtccueortgaduscvwsqgoge - fitness: 43\n",
      "dnqtccueortdaduscvwsqgoge - fitness: 42\n",
      "dnqtccueortdacuscvwsqgoge - fitness: 41\n",
      "dnqtgcueortdacuscvwsqfoge - fitness: 40\n",
      "dnqtccueortdacuscvwsqaoge - fitness: 35\n",
      "dnqtccueortdacuscvwstaoge - fitness: 32\n",
      "dnqtccueortdaauscvwstaoge - fitness: 30\n",
      "dnqtccueortdaauscvwstaoie - fitness: 28\n",
      "dnqtccueortdaauscvwstaoje - fitness: 27\n",
      "dnqtccueortdaausdvwstaoje - fitness: 26\n",
      "dnqtccueortdaausduwstaoje - fitness: 25\n",
      "dnqtccueortdaausdqwstaoje - fitness: 23\n",
      "dnqtccueorteaausdqwstaoje - fitness: 22\n",
      "dnqtccuhorteaausdqwstaoje - fitness: 19\n",
      "dnqtccuhortebausdqwstaoje - fitness: 18\n",
      "dnqtccuhortebausdrwstaoje - fitness: 17\n",
      "dnqtccuhortebauserwstaoje - fitness: 16\n",
      "dnqtfcuhortebauserwstaoje - fitness: 15\n",
      "dnrtfcuhortebauserwstaoje - fitness: 14\n",
      "dnrtfcuhortebatserwstaoje - fitness: 13\n",
      "dnrtfcuhortebatserwstaome - fitness: 12\n",
      "dnrtecuhortebatserwstaome - fitness: 11\n",
      "dnrtecuhortebatserzstaome - fitness: 10\n",
      "dnrtecuhortebatserzstaole - fitness: 9\n",
      "dnrtecuhortebatserzstaple - fitness: 8\n",
      "dnrtecuhortebatserystaple - fitness: 7\n",
      "dnrtecuhorsebatserystaple - fitness: 6\n",
      "dnrtecthorsebatserystaple - fitness: 5\n",
      "dnrrecuhorsebatserystaple - fitness: 4\n",
      "dnrrecthorsebatserystaple - fitness: 3\n",
      "dnrrecthorsebatterystaple - fitness: 2\n",
      "dorrecthorsebatterystaple - fitness: 1\n",
      "correcthorsebatterystaple - fitness: 0\n",
      "\n",
      "Melhor palpite da senha encontrado:\n",
      "correcthorsebatterystaple\n"
     ]
    }
   ],
   "source": [
    "populacao = cria_populacao_inicial(TAMANHO_POP, NUM_GENES)\n",
    "\n",
    "melhor_fitness_ja_visto = float(\"inf\")  # é assim que escrevemos infinito em python\n",
    "\n",
    "vezes = 0\n",
    "print(\"Progresso da melhor senha já vista:\")\n",
    "while melhor_fitness_ja_visto != 0:\n",
    "\n",
    "    # Seleção\n",
    "    fitness = funcao_objetivo_pop(populacao)\n",
    "    populacao = funcao_selecao(populacao, fitness)\n",
    "\n",
    "    # Cruzamento\n",
    "    pais = populacao[0::2]\n",
    "    maes = populacao[1::2]\n",
    "\n",
    "    contador = 0\n",
    "\n",
    "    for pai, mae in zip(pais, maes):\n",
    "        if random.random() <= CHANCE_CRUZAMENTO:\n",
    "            if len(pai) > 1 and len(mae) > 1:\n",
    "                filho1, filho2 = funcao_cruzamento(pai, mae)\n",
    "                populacao[contador] = filho1\n",
    "                populacao[contador + 1] = filho2\n",
    "\n",
    "        contador = contador + 2\n",
    "\n",
    "    # Mutação\n",
    "    for n in range(len(populacao)):\n",
    "        if random.random() <= CHANCE_MUTACAO:\n",
    "            individuo = populacao[n]\n",
    "            populacao[n] = funcao_mutacao(individuo)\n",
    "\n",
    "    # Mutação tamanho\n",
    "    for n in range(len(populacao)):\n",
    "        if random.random() <= CHANCE_MUTACAO_TAMANHO:\n",
    "            individuo = populacao[n]\n",
    "            populacao[n] = funcao_mutacao_tamanho(individuo)\n",
    "\n",
    "    # melhor individuo já visto até agora\n",
    "    fitness = funcao_objetivo_pop(populacao)\n",
    "    menor_fitness = min(fitness)\n",
    "    if menor_fitness < melhor_fitness_ja_visto:\n",
    "        posicao = fitness.index(menor_fitness)\n",
    "        melhor_individuo_ja_visto = populacao[posicao]\n",
    "        melhor_fitness_ja_visto = menor_fitness\n",
    "        print(\"\".join(melhor_individuo_ja_visto), \"- fitness:\", melhor_fitness_ja_visto)\n",
    "\n",
    "    vezes += 1\n",
    "print()\n",
    "print(\"Melhor palpite da senha encontrado:\")\n",
    "print(\"\".join(melhor_individuo_ja_visto))"
   ]
  },
  {
   "cell_type": "markdown",
   "metadata": {},
   "source": [
    "## Conclusão\n",
    "\n"
   ]
  },
  {
   "attachments": {},
   "cell_type": "markdown",
   "metadata": {},
   "source": [
    "Como esperado apenas colocando na função objetivo uma somatoria do erro do tamanho da lista e adicionando a função de mutar a quantidade de genes o algoritimo consegue achar a melhor resposta, achei impressionantecomo apenas fazendo alterrações basicas e mantendo o mesma base podemos criar um algoritimo funcional. O agoritimo descobre qualquer senha, que tenha todos os algoritimos utilizados falados, sem precisar saber o tamanho real da senha."
   ]
  },
  {
   "cell_type": "markdown",
   "metadata": {},
   "source": [
    "## Playground\n",
    "\n"
   ]
  },
  {
   "cell_type": "markdown",
   "metadata": {},
   "source": [
    "Todo código de teste que não faz parte do seu experimento deve vir aqui. Este código não será considerado na avaliação.\n",
    "\n"
   ]
  },
  {
   "cell_type": "code",
   "execution_count": null,
   "metadata": {},
   "outputs": [],
   "source": []
  }
 ],
 "metadata": {
  "kernelspec": {
   "display_name": "IC",
   "language": "python",
   "name": "python3"
  },
  "language_info": {
   "codemirror_mode": {
    "name": "ipython",
    "version": 3
   },
   "file_extension": ".py",
   "mimetype": "text/x-python",
   "name": "python",
   "nbconvert_exporter": "python",
   "pygments_lexer": "ipython3",
   "version": "3.9.16 (main, Mar  8 2023, 10:39:24) [MSC v.1916 64 bit (AMD64)]"
  },
  "org": null,
  "vscode": {
   "interpreter": {
    "hash": "3dbf9b8080ee84292f92b8a4b786af7296183e4b378576bd5b8a38ccd79d91e4"
   }
  }
 },
 "nbformat": 4,
 "nbformat_minor": 4
}
