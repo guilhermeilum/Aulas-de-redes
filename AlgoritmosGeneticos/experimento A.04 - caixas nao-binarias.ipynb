{
 "cells": [
  {
   "cell_type": "markdown",
   "metadata": {},
   "source": [
    "Problema das caixas não-binárias\n",
    "================================\n",
    "\n"
   ]
  },
  {
   "cell_type": "markdown",
   "metadata": {},
   "source": [
    "## Objetivo\n",
    "\n"
   ]
  },
  {
   "cell_type": "markdown",
   "metadata": {},
   "source": [
    "Encontrar uma solução para o problema das caixas não-binárias usando um algoritmo genético. Considere 4 caixas. Considere que cada caixa pode ter um valor inteiro dentro do conjunto [0, 100].\n",
    "\n"
   ]
  },
  {
   "cell_type": "markdown",
   "metadata": {},
   "source": [
    "## Descrição do problema\n",
    "\n"
   ]
  },
  {
   "cell_type": "markdown",
   "metadata": {},
   "source": [
    "O problema das caixas não-binárias é simples: nós temos um certo número de caixas e cada uma pode conter um número inteiro. O objetivo é encontrar uma combinação de caixas onde a soma dos valores contidos dentro delas é máximo.\n",
    "\n"
   ]
  },
  {
   "cell_type": "markdown",
   "metadata": {},
   "source": [
    "## Importações\n",
    "\n"
   ]
  },
  {
   "cell_type": "code",
   "execution_count": 8,
   "metadata": {},
   "outputs": [],
   "source": [
    "from funcoes import população_caixas_n_binarias\n",
    "from funcoes import func_objetivo_população_n_b as func_objetivo_pop\n",
    "from funcoes import selecao_roleta_max as fun_selecao\n",
    "from funcoes import cruzamento_ponto_simples as fun_cruzamento\n",
    "from funcoes import mutação_cnb\n",
    "from random import random\n"
   ]
  },
  {
   "cell_type": "markdown",
   "metadata": {},
   "source": [
    "## Códigos e discussão\n",
    "\n"
   ]
  },
  {
   "cell_type": "code",
   "execution_count": 9,
   "metadata": {},
   "outputs": [],
   "source": [
    "VALOR_CAIXA = 100\n",
    "TAMANHO_POP = 100\n",
    "NUM_GENES = 4\n",
    "NUM_GERAÇOES =100000\n",
    "CHANCE_CRUZAMENTO = 0.5\n",
    "CHANCE_MUTAÇÃO = 0.2\n"
   ]
  },
  {
   "cell_type": "code",
   "execution_count": 10,
   "metadata": {},
   "outputs": [],
   "source": [
    "def população_inicial(tamanho,n_gene):\n",
    "    return população_caixas_n_binarias(VALOR_CAIXA,tamanho,n_gene)"
   ]
  },
  {
   "cell_type": "code",
   "execution_count": 11,
   "metadata": {},
   "outputs": [],
   "source": [
    "def fun_mutação(individuo):\n",
    "    return mutação_cnb(VALOR_CAIXA,individuo)"
   ]
  },
  {
   "cell_type": "code",
   "execution_count": 12,
   "metadata": {},
   "outputs": [
    {
     "name": "stdout",
     "output_type": "stream",
     "text": [
      "população_inicial:  [[26, 92, 88, 45], [21, 13, 20, 80], [14, 81, 15, 35], [98, 98, 17, 10], [85, 44, 53, 52], [51, 54, 14, 75], [77, 71, 84, 44], [56, 99, 67, 55], [59, 31, 38, 58], [7, 5, 0, 85], [46, 51, 31, 30], [93, 53, 44, 35], [47, 63, 65, 25], [88, 56, 44, 11], [93, 2, 57, 57], [95, 37, 45, 27], [85, 31, 64, 14], [96, 59, 97, 46], [76, 48, 22, 46], [12, 4, 75, 32], [9, 25, 31, 5], [42, 66, 59, 43], [29, 63, 17, 62], [33, 4, 4, 12], [79, 33, 36, 66], [33, 4, 81, 83], [95, 94, 0, 3], [23, 72, 51, 12], [64, 45, 7, 38], [20, 31, 19, 11], [37, 74, 9, 63], [84, 38, 53, 9], [98, 72, 90, 7], [59, 73, 70, 30], [36, 17, 13, 9], [10, 30, 35, 80], [68, 21, 63, 0], [13, 51, 43, 53], [40, 75, 40, 56], [10, 86, 93, 31], [92, 54, 95, 3], [13, 74, 84, 45], [57, 24, 23, 74], [79, 69, 100, 100], [45, 87, 4, 38], [0, 88, 85, 94], [91, 42, 43, 43], [28, 78, 19, 46], [51, 74, 100, 72], [75, 55, 33, 64], [96, 36, 56, 63], [7, 72, 43, 15], [14, 6, 27, 18], [14, 21, 31, 58], [83, 0, 94, 61], [80, 64, 46, 72], [70, 14, 93, 88], [43, 69, 72, 8], [10, 27, 5, 62], [82, 23, 81, 62], [41, 32, 97, 84], [83, 97, 7, 33], [15, 45, 51, 83], [53, 35, 11, 95], [56, 21, 59, 94], [32, 9, 63, 50], [96, 11, 97, 36], [91, 5, 46, 97], [99, 99, 15, 84], [39, 60, 6, 43], [72, 21, 75, 17], [10, 97, 60, 11], [9, 54, 4, 85], [13, 74, 67, 50], [54, 21, 21, 10], [42, 96, 1, 68], [90, 46, 25, 68], [28, 76, 44, 18], [71, 49, 18, 52], [88, 81, 6, 16], [33, 2, 24, 31], [28, 87, 24, 15], [40, 24, 98, 38], [3, 94, 96, 52], [8, 87, 91, 24], [88, 2, 94, 49], [59, 71, 3, 71], [11, 4, 90, 1], [67, 72, 31, 42], [84, 64, 92, 25], [0, 99, 99, 70], [74, 94, 15, 73], [61, 48, 81, 25], [5, 28, 86, 38], [3, 82, 22, 81], [40, 54, 48, 78], [24, 37, 32, 53], [49, 63, 39, 58], [83, 93, 66, 18], [83, 95, 66, 41]]\n"
     ]
    }
   ],
   "source": [
    "população = população_inicial(TAMANHO_POP, NUM_GENES)\n",
    "print(\"população_inicial: \", população)"
   ]
  },
  {
   "cell_type": "code",
   "execution_count": 13,
   "metadata": {},
   "outputs": [
    {
     "name": "stdout",
     "output_type": "stream",
     "text": [
      "população final:  [[68, 74, 69, 98], [93, 88, 87, 83], [93, 74, 69, 98], [11, 88, 79, 94], [97, 87, 87, 94], [97, 88, 79, 94], [91, 92, 79, 94], [91, 60, 94, 83], [97, 87, 89, 98], [97, 88, 89, 83], [11, 88, 79, 94], [97, 88, 94, 98], [93, 74, 69, 98], [97, 87, 69, 95], [11, 88, 94, 98], [11, 88, 79, 94], [97, 88, 89, 83], [91, 30, 79, 94], [93, 88, 94, 98], [66, 63, 89, 83], [78, 88, 19, 55], [97, 88, 89, 83], [93, 92, 79, 94], [97, 87, 89, 98], [93, 92, 89, 95], [97, 92, 29, 98], [93, 45, 89, 83], [97, 92, 29, 98], [97, 88, 94, 98], [97, 88, 79, 94], [97, 88, 94, 94], [91, 88, 94, 98], [97, 88, 89, 83], [97, 88, 43, 94], [78, 88, 69, 98], [97, 41, 53, 95], [91, 60, 94, 83], [93, 87, 89, 95], [78, 88, 69, 98], [97, 59, 43, 95], [97, 88, 79, 94], [4, 96, 29, 9], [97, 92, 29, 98], [97, 88, 94, 98], [92, 75, 69, 98], [93, 88, 79, 94], [97, 60, 69, 68], [97, 88, 79, 94], [93, 88, 94, 98], [97, 88, 94, 98], [97, 41, 53, 95], [97, 100, 2, 36], [66, 63, 89, 83], [97, 60, 69, 68], [95, 88, 79, 94], [4, 96, 29, 9], [97, 88, 43, 94], [97, 88, 94, 98], [97, 60, 69, 68], [97, 87, 69, 95], [39, 5, 89, 95], [97, 41, 53, 98], [97, 88, 94, 98], [52, 88, 69, 98], [36, 60, 89, 95], [52, 88, 79, 94], [39, 5, 89, 95], [91, 60, 94, 83], [97, 16, 94, 72], [93, 88, 94, 72], [92, 75, 69, 98], [97, 88, 43, 94], [97, 92, 29, 98], [93, 82, 24, 85], [97, 88, 94, 98], [91, 92, 79, 94], [97, 87, 89, 95], [97, 88, 89, 83], [92, 75, 69, 98], [97, 88, 94, 98], [97, 100, 2, 36], [97, 88, 94, 98], [93, 17, 89, 95], [72, 88, 43, 94], [78, 88, 79, 83], [97, 46, 94, 98], [97, 88, 94, 94], [39, 5, 89, 95], [93, 88, 79, 94], [93, 87, 89, 95], [78, 88, 79, 17], [97, 88, 94, 98], [78, 88, 79, 83], [78, 88, 79, 17], [97, 88, 89, 83], [97, 88, 94, 98], [91, 60, 94, 98], [78, 88, 79, 17], [39, 5, 89, 95], [97, 100, 2, 36]]\n"
     ]
    }
   ],
   "source": [
    "for _ in range(NUM_GERAÇOES):\n",
    "    fitnes = func_objetivo_pop(população)\n",
    "    população = fun_selecao(população, fitnes)\n",
    "    \n",
    "    pais = população[0::2]\n",
    "    maes = população[1::2]\n",
    "    contador = 0\n",
    "    \n",
    "    for pai,mae in zip(pais,maes):\n",
    "        if random() <= CHANCE_CRUZAMENTO:\n",
    "            filho1,filho2 = fun_cruzamento(pai,mae)\n",
    "            população[contador] = filho1\n",
    "            população[contador+1] = filho2\n",
    "        contador += 2\n",
    "    \n",
    "    for index in range(len(população)):\n",
    "        if random() <= CHANCE_MUTAÇÃO:\n",
    "            população[index] = fun_mutação(população[index])\n",
    "    \n",
    "    fitnes = func_objetivo_pop(população)\n",
    "    população = fun_selecao(população, fitnes)\n",
    "print(\"população final: \", população)"
   ]
  },
  {
   "cell_type": "markdown",
   "metadata": {},
   "source": [
    "## Conclusão\n",
    "\n"
   ]
  },
  {
   "attachments": {},
   "cell_type": "markdown",
   "metadata": {},
   "source": [
    "A ideia é a mesma que o outro experimento, portanto podemos reciclar varias funções, tanto parcialmente quanto totalmente, o problema é simples, mas podemos entender melhor o funcionamento de um algoritimo tão simples e tão funcional."
   ]
  },
  {
   "cell_type": "markdown",
   "metadata": {},
   "source": [
    "## Playground\n",
    "\n"
   ]
  },
  {
   "cell_type": "code",
   "execution_count": null,
   "metadata": {},
   "outputs": [],
   "source": []
  }
 ],
 "metadata": {
  "kernelspec": {
   "display_name": "Gene_rede",
   "language": "python",
   "name": "python3"
  },
  "language_info": {
   "codemirror_mode": {
    "name": "ipython",
    "version": 3
   },
   "file_extension": ".py",
   "mimetype": "text/x-python",
   "name": "python",
   "nbconvert_exporter": "python",
   "pygments_lexer": "ipython3",
   "version": "3.9.16"
  },
  "org": null,
  "vscode": {
   "interpreter": {
    "hash": "bcd4dede4f8d6882e830230d2c9e458a695f73b271f5684e93aba7f6e3029824"
   }
  }
 },
 "nbformat": 4,
 "nbformat_minor": 4
}
